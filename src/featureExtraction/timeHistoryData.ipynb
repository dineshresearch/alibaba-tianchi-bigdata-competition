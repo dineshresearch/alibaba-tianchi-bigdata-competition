{
 "cells": [
  {
   "cell_type": "code",
   "execution_count": 1,
   "metadata": {
    "collapsed": true,
    "deletable": true,
    "editable": true
   },
   "outputs": [],
   "source": [
    "import numpy as np\n",
    "import pandas as pd\n",
    "import xgboost as xgb\n",
    "import datetime as dt\n",
    "import threadpool as tp\n",
    "from multiprocessing.dummy import Pool as ThreadPool\n",
    "import time as tm"
   ]
  },
  {
   "cell_type": "code",
   "execution_count": 2,
   "metadata": {
    "collapsed": false,
    "deletable": true,
    "editable": true
   },
   "outputs": [],
   "source": [
    "#loading data\n",
    "shopInfoFile = '../dataset/shop_info.txt'\n",
    "userPayFile = '../dataset/user_pay.txt'\n",
    "userViewFile = '../dataset/user_view.txt'\n",
    "\n",
    "shopInfo = pd.read_table(shopInfoFile, sep = ',', header = None)\n",
    "userPay = pd.read_table(userPayFile, sep = ',', header = None)\n",
    "userView = pd.read_table(userViewFile, sep = ',', header = None)"
   ]
  },
  {
   "cell_type": "code",
   "execution_count": 3,
   "metadata": {
    "collapsed": false,
    "deletable": true,
    "editable": true
   },
   "outputs": [],
   "source": [
    "#informationi on shops in different cities\n",
    "cities = np.unique(shopInfo[1])\n",
    "shopByCity = {}\n",
    "shopNumByCity = {}\n",
    "for city in cities:\n",
    "    shopNumByCity[city] = shopInfo[shopInfo[1] == city].shape[0]\n",
    "    shopByCity[city] = np.array(shopInfo[shopInfo[1] == city][0])"
   ]
  },
  {
   "cell_type": "code",
   "execution_count": 6,
   "metadata": {
    "collapsed": true,
    "deletable": true,
    "editable": true
   },
   "outputs": [],
   "source": [
    "#prepare to perform parallel computation\n",
    "shopNum = shopInfo.shape[0]\n",
    "startDate = dt.datetime.strptime(\"2015-07-01 00:00:00\", \"%Y-%m-%d %H:%M:%S\")\n",
    "endDate = dt.datetime.strptime(\"2016-10-31 23:59:59\", \"%Y-%m-%d %H:%M:%S\")\n",
    "days = (endDate - startDate).days + 1\n",
    "\n",
    "def threadFunc(list):\n",
    "    shopNum = list[0]\n",
    "    days = list[1]\n",
    "    records = list[2]\n",
    "    viewTH = np.zeros((shopNum, days), dtype = 'int32')\n",
    "    for i in range(records.shape[0]):\n",
    "        viewRecord = records[i]\n",
    "        time = (dt.datetime.strptime(viewRecord[2], \"%Y-%m-%d %H:%M:%S\") - startDate).days\n",
    "        shopID = viewRecord[1]\n",
    "        viewTH[shopID - 1][time] = viewTH[shopID - 1][time] + 1\n",
    "    return viewTH"
   ]
  },
  {
   "cell_type": "code",
   "execution_count": 12,
   "metadata": {
    "collapsed": false,
    "deletable": true,
    "editable": true
   },
   "outputs": [
    {
     "name": "stdout",
     "output_type": "stream",
     "text": [
      "using 277.828297s for calculating the viewTH table(parallel).\n"
     ]
    }
   ],
   "source": [
    "#build the view time history table(parallel)\n",
    "threadNum = 16\n",
    "parm = []\n",
    "viewNum = userView.shape[0]\n",
    "interval = int(np.ceil(viewNum/threadNum))\n",
    "\n",
    "for i in range(threadNum):\n",
    "    temp = [shopNum, days]\n",
    "    start = i * interval\n",
    "    end = min(viewNum, (i + 1) * interval - 1)\n",
    "    temp.append(np.array(userView.ix[start:end]))\n",
    "    parm.append(temp)    \n",
    "\n",
    "t1 = tm.clock()\n",
    "pool = ThreadPool(threadNum)\n",
    "result = pool.map(threadFunc, parm)\n",
    "pool.close()\n",
    "pool.join()\n",
    "t2 = tm.clock()\n",
    "print(\"using {0}s for calculating the viewTH table(parallel).\".format(t2 - t1))\n",
    "\n",
    "viewTH = sum(result)"
   ]
  },
  {
   "cell_type": "code",
   "execution_count": 13,
   "metadata": {
    "collapsed": true,
    "deletable": true,
    "editable": true
   },
   "outputs": [],
   "source": [
    "#save view time history table\n",
    "np.savetxt('../preprocess/viewTH_parallel.txt', viewTH, fmt = '%s')"
   ]
  },
  {
   "cell_type": "code",
   "execution_count": 6,
   "metadata": {
    "collapsed": false,
    "deletable": true,
    "editable": true
   },
   "outputs": [
    {
     "name": "stdout",
     "output_type": "stream",
     "text": [
      "using 3593.6999s for calculating the payTH table(parallel).\n"
     ]
    }
   ],
   "source": [
    "#build the pay time history table(parallel)\n",
    "threadNum = 16\n",
    "parm = []\n",
    "payNum = userPay.shape[0]\n",
    "interval = int(np.ceil(payNum/threadNum))\n",
    "\n",
    "for i in range(threadNum):\n",
    "    temp = [shopNum, days]\n",
    "    start = i * interval\n",
    "    end = min(payNum, (i + 1) * interval - 1)\n",
    "    temp.append(np.array(userPay.ix[start:end]))\n",
    "    parm.append(temp)   \n",
    "\n",
    "t1 = tm.clock()\n",
    "pool = ThreadPool(threadNum)\n",
    "result = pool.map(threadFunc, parm)\n",
    "pool.close()\n",
    "pool.join()\n",
    "t2 = tm.clock()\n",
    "print(\"using {0}s for calculating the payTH table(parallel).\".format(t2 - t1))\n",
    "\n",
    "payTH = sum(result)"
   ]
  },
  {
   "cell_type": "code",
   "execution_count": 7,
   "metadata": {
    "collapsed": true,
    "deletable": true,
    "editable": true
   },
   "outputs": [],
   "source": [
    "#save pay time history table\n",
    "np.savetxt('../preprocess/payTH_parallel.txt', payTH, fmt = '%s')"
   ]
  }
 ],
 "metadata": {
  "kernelspec": {
   "display_name": "Python 3",
   "language": "python",
   "name": "python3"
  },
  "language_info": {
   "codemirror_mode": {
    "name": "ipython",
    "version": 3
   },
   "file_extension": ".py",
   "mimetype": "text/x-python",
   "name": "python",
   "nbconvert_exporter": "python",
   "pygments_lexer": "ipython3",
   "version": "3.6.0"
  }
 },
 "nbformat": 4,
 "nbformat_minor": 2
}
