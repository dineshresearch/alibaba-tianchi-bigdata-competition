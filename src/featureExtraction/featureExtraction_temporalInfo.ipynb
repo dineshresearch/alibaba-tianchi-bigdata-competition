{
 "cells": [
  {
   "cell_type": "code",
   "execution_count": 1,
   "metadata": {
    "collapsed": true,
    "deletable": true,
    "editable": true
   },
   "outputs": [],
   "source": [
    "import numpy as np\n",
    "import pandas as pd\n",
    "import datetime as dt"
   ]
  },
  {
   "cell_type": "code",
   "execution_count": 2,
   "metadata": {
    "collapsed": true,
    "deletable": true,
    "editable": true
   },
   "outputs": [],
   "source": [
    "# loading original data\n",
    "shopInfoFile = '../dataset/shop_info.txt'\n",
    "shopInfo = pd.read_table(shopInfoFile, sep = ',', header = None)\n",
    "shopInfo.columns = ['shopID', 'city', 'locationID', 'perPay', 'score', 'commentCnt', 'shopLevel', 'cate1', 'cate2', 'cate3']\n",
    "\n",
    "columns = ['shopID', 'year', 'month', 'day', 'dayOfWeek', 'holiday', 'numHolidayLast', 'numHolidayCur', 'numHolidayNext']"
   ]
  },
  {
   "cell_type": "markdown",
   "metadata": {},
   "source": [
    "# generate temporal information for training and validation"
   ]
  },
  {
   "cell_type": "code",
   "execution_count": 3,
   "metadata": {
    "collapsed": false,
    "deletable": true,
    "editable": true
   },
   "outputs": [],
   "source": [
    "startDateTrain = dt.date(2016, 9, 20)\n",
    "endDateTrain = dt.date(2016, 10, 17)\n",
    "startDateTest = dt.date(2016, 10, 18)\n",
    "endDateTest = dt.date(2016, 10, 31)\n",
    "\n",
    "startDayOfWeekTrain = 2\n",
    "startDayOfWeekTest = 2\n",
    "dayOfWeekTrain = []\n",
    "dayOfWeekTest = []\n",
    "\n",
    "cur = startDayOfWeekTrain\n",
    "for i in range((endDateTrain - startDateTrain).days + 1):\n",
    "    if cur > 7:\n",
    "        cur = 1\n",
    "    dayOfWeekTrain.append(cur)\n",
    "    cur = cur + 1\n",
    "\n",
    "cur = startDayOfWeekTest\n",
    "for i in range((endDateTest - startDateTest).days + 1):\n",
    "    if cur > 7:\n",
    "        cur = 1\n",
    "    dayOfWeekTest.append(cur)\n",
    "    cur = cur + 1"
   ]
  },
  {
   "cell_type": "code",
   "execution_count": 4,
   "metadata": {
    "collapsed": false,
    "deletable": true,
    "editable": true
   },
   "outputs": [],
   "source": [
    "numHolidayLastTrain = [2] * ((endDateTrain - startDateTrain).days + 1)\n",
    "numHolidayLastTest = [2] * ((endDateTest - startDateTest).days + 1)\n",
    "\n",
    "numHolidayLastTrain[0] = 3    #9-20\n",
    "numHolidayLastTrain[1] = 3    #9-21\n",
    "numHolidayLastTrain[2] = 3    #9-22\n",
    "numHolidayLastTrain[3] = 2    #9-23\n",
    "numHolidayLastTrain[4] = 1    #9-24\n",
    "numHolidayLastTrain[5] = 1    #9-25\n",
    "\n",
    "numHolidayLastTrain[14] = 3    #10-4\n",
    "numHolidayLastTrain[15] = 4    #10-5\n",
    "numHolidayLastTrain[16] = 5    #10-6\n",
    "numHolidayLastTrain[17] = 6    #10-7\n",
    "numHolidayLastTrain[18] = 7    #10-8\n",
    "numHolidayLastTrain[19] = 6    #10-9\n",
    "numHolidayLastTrain[20] = 5    #10-10\n",
    "numHolidayLastTrain[21] = 4    #10-11\n",
    "numHolidayLastTrain[22] = 3    #10-12\n",
    "numHolidayLastTrain[23] = 2    #10-13\n",
    "numHolidayLastTrain[24] = 1    #10-14\n",
    "numHolidayLastTrain[25] = 0    #10-15\n",
    "numHolidayLastTrain[26] = 1    #10-16"
   ]
  },
  {
   "cell_type": "code",
   "execution_count": 5,
   "metadata": {
    "collapsed": false,
    "deletable": true,
    "editable": true
   },
   "outputs": [],
   "source": [
    "numHolidayCurTrain = [2] * ((endDateTrain - startDateTrain).days + 1)\n",
    "numHolidayCurTest = [2] * ((endDateTest - startDateTest).days + 1)\n",
    "\n",
    "numHolidayCurTrain[0] = 1    #9-20\n",
    "numHolidayCurTrain[1] = 1    #9-21\n",
    "numHolidayCurTrain[2] = 1    #9-22\n",
    "numHolidayCurTrain[3] = 1    #9-23\n",
    "numHolidayCurTrain[4] = 1    #9-24\n",
    "\n",
    "numHolidayCurTrain[12] = 6    #10-2\n",
    "numHolidayCurTrain[13] = 6    #10-3\n",
    "numHolidayCurTrain[14] = 6    #10-4\n",
    "numHolidayCurTrain[15] = 6    #10-5\n",
    "numHolidayCurTrain[16] = 6    #10-6\n",
    "numHolidayCurTrain[17] = 6    #10-7\n",
    "numHolidayCurTrain[18] = 6    #10-8\n",
    "\n",
    "numHolidayCurTrain[19] = 1    #10-9\n",
    "numHolidayCurTrain[20] = 1    #10-10\n",
    "numHolidayCurTrain[21] = 1    #10-11\n",
    "numHolidayCurTrain[22] = 1    #10-12\n",
    "numHolidayCurTrain[23] = 1    #10-13\n",
    "numHolidayCurTrain[24] = 1    #10-14\n",
    "numHolidayCurTrain[25] = 1    #10-15"
   ]
  },
  {
   "cell_type": "code",
   "execution_count": 6,
   "metadata": {
    "collapsed": false,
    "deletable": true,
    "editable": true
   },
   "outputs": [],
   "source": [
    "numHolidayNextTrain = [2] * ((endDateTrain - startDateTrain).days + 1)\n",
    "numHolidayNextTest = [2] * ((endDateTest - startDateTest).days + 1)\n",
    "\n",
    "numHolidayNextTrain[6] = 3    #9-26\n",
    "numHolidayNextTrain[7] = 4    #9-27\n",
    "numHolidayNextTrain[8] = 5    #9-28\n",
    "numHolidayNextTrain[9] = 6    #9-29\n",
    "numHolidayNextTrain[10] = 7    #9-30\n",
    "numHolidayNextTrain[11] = 6    #10-1\n",
    "numHolidayNextTrain[12] = 5    #10-2\n",
    "numHolidayNextTrain[13] = 4    #10-3\n",
    "numHolidayNextTrain[14] = 3    #10-4\n",
    "numHolidayNextTrain[15] = 2    #10-5\n",
    "numHolidayNextTrain[16] = 1    #10-6\n",
    "numHolidayNextTrain[17] = 0    #10-7\n",
    "numHolidayNextTrain[18] = 1    #10-8"
   ]
  },
  {
   "cell_type": "code",
   "execution_count": 7,
   "metadata": {
    "collapsed": false,
    "deletable": true,
    "editable": true
   },
   "outputs": [],
   "source": [
    "holidayTrain = []\n",
    "for day in dayOfWeekTrain:\n",
    "    if day < 6:\n",
    "        holidayTrain.append(0)\n",
    "    else:\n",
    "        holidayTrain.append(1)\n",
    "\n",
    "holidayTrain[11] = 2    #10-1\n",
    "holidayTrain[12] = 2    #10-2\n",
    "holidayTrain[13] = 2    #10-3\n",
    "holidayTrain[14] = 2    #10-4\n",
    "holidayTrain[15] = 2    #10-5\n",
    "holidayTrain[16] = 2    #10-6\n",
    "holidayTrain[17] = 2    #10-7\n",
    "holidayTrain[18] = 0    #10-8\n",
    "holidayTrain[19] = 0    #10-9\n",
    "        \n",
    "holidayTest = []\n",
    "for day in dayOfWeekTest:\n",
    "    if day < 6:\n",
    "        holidayTest.append(0)\n",
    "    else:\n",
    "        holidayTest.append(1)"
   ]
  },
  {
   "cell_type": "code",
   "execution_count": 8,
   "metadata": {
    "collapsed": false,
    "deletable": true,
    "editable": true
   },
   "outputs": [],
   "source": [
    "temporalDataTrain = {}\n",
    "for column in columns:\n",
    "    temporalDataTrain[column] = []\n",
    "\n",
    "for shopID in shopInfo['shopID']:\n",
    "    curDate = startDateTrain\n",
    "    endDate = endDateTrain + dt.timedelta(days = 1)\n",
    "    while curDate != endDate:\n",
    "        temporalDataTrain['year'].append(curDate.year)\n",
    "        temporalDataTrain['month'].append(curDate.month)\n",
    "        temporalDataTrain['day'].append(curDate.day)\n",
    "        temporalDataTrain['shopID'].append(shopID)\n",
    "        temporalDataTrain['dayOfWeek'].append(dayOfWeekTrain[(curDate - startDateTrain).days])\n",
    "        temporalDataTrain['holiday'].append(holidayTrain[(curDate - startDateTrain).days])\n",
    "        temporalDataTrain['numHolidayLast'].append(numHolidayLastTrain[(curDate - startDateTrain).days])\n",
    "        temporalDataTrain['numHolidayCur'].append(numHolidayCurTrain[(curDate - startDateTrain).days])\n",
    "        temporalDataTrain['numHolidayNext'].append(numHolidayNextTrain[(curDate - startDateTrain).days])\n",
    "        curDate = curDate + dt.timedelta(days = 1)"
   ]
  },
  {
   "cell_type": "code",
   "execution_count": 9,
   "metadata": {
    "collapsed": true,
    "deletable": true,
    "editable": true
   },
   "outputs": [],
   "source": [
    "trainFeatures_temporalInfo = pd.DataFrame(temporalDataTrain, columns = columns)\n",
    "trainFeatures_temporalInfo.to_csv('../preprocess/trainValidFeatures_temporalInfo.csv', header = False, index = False, date_format = 'int32')"
   ]
  },
  {
   "cell_type": "code",
   "execution_count": 10,
   "metadata": {
    "collapsed": true,
    "deletable": true,
    "editable": true
   },
   "outputs": [],
   "source": [
    "temporalDataTest = {}\n",
    "for column in columns:\n",
    "    temporalDataTest[column] = []\n",
    "\n",
    "for shopID in shopInfo['shopID']:\n",
    "    curDate = startDateTest\n",
    "    endDate = endDateTest + dt.timedelta(days = 1)\n",
    "    while curDate != endDate:\n",
    "        temporalDataTest['year'].append(curDate.year)\n",
    "        temporalDataTest['month'].append(curDate.month)\n",
    "        temporalDataTest['day'].append(curDate.day)\n",
    "        temporalDataTest['shopID'].append(shopID)\n",
    "        temporalDataTest['dayOfWeek'].append(dayOfWeekTest[(curDate - startDateTest).days])\n",
    "        temporalDataTest['holiday'].append(holidayTest[(curDate - startDateTest).days])\n",
    "        temporalDataTest['numHolidayLast'].append(numHolidayLastTest[(curDate - startDateTest).days])\n",
    "        temporalDataTest['numHolidayCur'].append(numHolidayCurTest[(curDate - startDateTest).days])\n",
    "        temporalDataTest['numHolidayNext'].append(numHolidayNextTest[(curDate - startDateTest).days])\n",
    "        curDate = curDate + dt.timedelta(days = 1)"
   ]
  },
  {
   "cell_type": "code",
   "execution_count": 11,
   "metadata": {
    "collapsed": false,
    "deletable": true,
    "editable": true
   },
   "outputs": [],
   "source": [
    "testFeatures_temporalInfo = pd.DataFrame(temporalDataTest, columns = columns)\n",
    "testFeatures_temporalInfo.to_csv('../preprocess/validFeatures_temporalInfo.csv', header = False, index = False, date_format = 'int32')"
   ]
  },
  {
   "cell_type": "markdown",
   "metadata": {
    "collapsed": true,
    "deletable": true,
    "editable": true
   },
   "source": [
    "# generate temporal information for training and testing"
   ]
  },
  {
   "cell_type": "code",
   "execution_count": 12,
   "metadata": {
    "collapsed": true,
    "deletable": true,
    "editable": true
   },
   "outputs": [],
   "source": [
    "startDateTrain = dt.date(2016, 10, 4)\n",
    "endDateTrain = dt.date(2016, 10, 31)\n",
    "startDateTest = dt.date(2016, 11, 1)\n",
    "endDateTest = dt.date(2016, 11, 14)\n",
    "\n",
    "startDayOfWeekTrain = 2\n",
    "startDayOfWeekTest = 2\n",
    "dayOfWeekTrain = []\n",
    "dayOfWeekTest = []\n",
    "\n",
    "cur = startDayOfWeekTrain\n",
    "for i in range((endDateTrain - startDateTrain).days + 1):\n",
    "    if cur > 7:\n",
    "        cur = 1\n",
    "    dayOfWeekTrain.append(cur)\n",
    "    cur = cur + 1\n",
    "\n",
    "cur = startDayOfWeekTest\n",
    "for i in range((endDateTest - startDateTest).days + 1):\n",
    "    if cur > 7:\n",
    "        cur = 1\n",
    "    dayOfWeekTest.append(cur)\n",
    "    cur = cur + 1"
   ]
  },
  {
   "cell_type": "code",
   "execution_count": 13,
   "metadata": {
    "collapsed": true,
    "deletable": true,
    "editable": true
   },
   "outputs": [],
   "source": [
    "numHolidayLastTrain = [2] * ((endDateTrain - startDateTrain).days + 1)\n",
    "numHolidayLastTest = [2] * ((endDateTest - startDateTest).days + 1)\n",
    "\n",
    "numHolidayLastTrain[0] = 3    #10-4\n",
    "numHolidayLastTrain[1] = 4    #10-5\n",
    "numHolidayLastTrain[2] = 5    #10-6\n",
    "numHolidayLastTrain[3] = 6    #10-7\n",
    "numHolidayLastTrain[4] = 7    #10-8\n",
    "numHolidayLastTrain[5] = 6    #10-9\n",
    "numHolidayLastTrain[6] = 5    #10-10\n",
    "numHolidayLastTrain[7] = 4    #10-11\n",
    "numHolidayLastTrain[8] = 3    #10-12\n",
    "numHolidayLastTrain[9] = 2    #10-13\n",
    "numHolidayLastTrain[10] = 1    #10-14\n",
    "numHolidayLastTrain[11] = 0    #10-15\n",
    "numHolidayLastTrain[12] = 1    #10-16"
   ]
  },
  {
   "cell_type": "code",
   "execution_count": 14,
   "metadata": {
    "collapsed": true,
    "deletable": true,
    "editable": true
   },
   "outputs": [],
   "source": [
    "numHolidayCurTrain = [2] * ((endDateTrain - startDateTrain).days + 1)\n",
    "numHolidayCurTest = [2] * ((endDateTest - startDateTest).days + 1)\n",
    "\n",
    "numHolidayCurTrain[0] = 6    #10-4\n",
    "numHolidayCurTrain[1] = 6    #10-5\n",
    "numHolidayCurTrain[2] = 6    #10-6\n",
    "numHolidayCurTrain[3] = 6    #10-7\n",
    "numHolidayCurTrain[4] = 6    #10-8\n",
    "\n",
    "numHolidayCurTrain[5] = 1    #10-9\n",
    "numHolidayCurTrain[6] = 1    #10-10\n",
    "numHolidayCurTrain[7] = 1    #10-11\n",
    "numHolidayCurTrain[8] = 1    #10-12\n",
    "numHolidayCurTrain[9] = 1    #10-13\n",
    "numHolidayCurTrain[10] = 1    #10-14\n",
    "numHolidayCurTrain[11] = 1    #10-15"
   ]
  },
  {
   "cell_type": "code",
   "execution_count": 15,
   "metadata": {
    "collapsed": true,
    "deletable": true,
    "editable": true
   },
   "outputs": [],
   "source": [
    "numHolidayNextTrain = [2] * ((endDateTrain - startDateTrain).days + 1)\n",
    "numHolidayNextTest = [2] * ((endDateTest - startDateTest).days + 1)\n",
    "\n",
    "numHolidayNextTrain[0] = 3    #10-4\n",
    "numHolidayNextTrain[1] = 2    #10-5\n",
    "numHolidayNextTrain[2] = 1    #10-6\n",
    "numHolidayNextTrain[3] = 0    #10-7\n",
    "numHolidayNextTrain[4] = 1    #10-8"
   ]
  },
  {
   "cell_type": "code",
   "execution_count": 16,
   "metadata": {
    "collapsed": true,
    "deletable": true,
    "editable": true
   },
   "outputs": [],
   "source": [
    "holidayTrain = []\n",
    "for day in dayOfWeekTrain:\n",
    "    if day < 6:\n",
    "        holidayTrain.append(0)\n",
    "    else:\n",
    "        holidayTrain.append(1)\n",
    "\n",
    "holidayTrain[0] = 2    #10-4\n",
    "holidayTrain[1] = 2    #10-5\n",
    "holidayTrain[2] = 2    #10-6\n",
    "holidayTrain[3] = 2    #10-7\n",
    "holidayTrain[4] = 0    #10-8\n",
    "holidayTrain[5] = 0    #10-9\n",
    "\n",
    "holidayTest = []\n",
    "for day in dayOfWeekTest:\n",
    "    if day < 6:\n",
    "        holidayTest.append(0)\n",
    "    else:\n",
    "        holidayTest.append(1)"
   ]
  },
  {
   "cell_type": "code",
   "execution_count": 17,
   "metadata": {
    "collapsed": true,
    "deletable": true,
    "editable": true
   },
   "outputs": [],
   "source": [
    "temporalDataTrain = {}\n",
    "for column in columns:\n",
    "    temporalDataTrain[column] = []\n",
    "\n",
    "for shopID in shopInfo['shopID']:\n",
    "    curDate = startDateTrain\n",
    "    endDate = endDateTrain + dt.timedelta(days = 1)\n",
    "    while curDate != endDate:\n",
    "        temporalDataTrain['year'].append(curDate.year)\n",
    "        temporalDataTrain['month'].append(curDate.month)\n",
    "        temporalDataTrain['day'].append(curDate.day)\n",
    "        temporalDataTrain['shopID'].append(shopID)\n",
    "        temporalDataTrain['dayOfWeek'].append(dayOfWeekTrain[(curDate - startDateTrain).days])\n",
    "        temporalDataTrain['holiday'].append(holidayTrain[(curDate - startDateTrain).days])\n",
    "        temporalDataTrain['numHolidayLast'].append(numHolidayLastTrain[(curDate - startDateTrain).days])\n",
    "        temporalDataTrain['numHolidayCur'].append(numHolidayCurTrain[(curDate - startDateTrain).days])\n",
    "        temporalDataTrain['numHolidayNext'].append(numHolidayNextTrain[(curDate - startDateTrain).days])\n",
    "        curDate = curDate + dt.timedelta(days = 1)"
   ]
  },
  {
   "cell_type": "code",
   "execution_count": 18,
   "metadata": {
    "collapsed": true,
    "deletable": true,
    "editable": true
   },
   "outputs": [],
   "source": [
    "trainFeatures_temporalInfo = pd.DataFrame(temporalDataTrain, columns = columns)\n",
    "trainFeatures_temporalInfo.to_csv('../preprocess/trainTestFeatures_temporalInfo.csv', header = False, index = False, date_format = 'int32')"
   ]
  },
  {
   "cell_type": "code",
   "execution_count": 19,
   "metadata": {
    "collapsed": true,
    "deletable": true,
    "editable": true
   },
   "outputs": [],
   "source": [
    "temporalDataTest = {}\n",
    "for column in columns:\n",
    "    temporalDataTest[column] = []\n",
    "\n",
    "for shopID in shopInfo['shopID']:\n",
    "    curDate = startDateTest\n",
    "    endDate = endDateTest + dt.timedelta(days = 1)\n",
    "    while curDate != endDate:\n",
    "        temporalDataTest['year'].append(curDate.year)\n",
    "        temporalDataTest['month'].append(curDate.month)\n",
    "        temporalDataTest['day'].append(curDate.day)\n",
    "        temporalDataTest['shopID'].append(shopID)\n",
    "        temporalDataTest['dayOfWeek'].append(dayOfWeekTest[(curDate - startDateTest).days])\n",
    "        temporalDataTest['holiday'].append(holidayTest[(curDate - startDateTest).days])\n",
    "        temporalDataTest['numHolidayLast'].append(numHolidayLastTest[(curDate - startDateTest).days])\n",
    "        temporalDataTest['numHolidayCur'].append(numHolidayCurTest[(curDate - startDateTest).days])\n",
    "        temporalDataTest['numHolidayNext'].append(numHolidayNextTest[(curDate - startDateTest).days])\n",
    "        curDate = curDate + dt.timedelta(days = 1)"
   ]
  },
  {
   "cell_type": "code",
   "execution_count": 20,
   "metadata": {
    "collapsed": true,
    "deletable": true,
    "editable": true
   },
   "outputs": [],
   "source": [
    "testFeatures_temporalInfo = pd.DataFrame(temporalDataTest, columns = columns)\n",
    "testFeatures_temporalInfo.to_csv('../preprocess/testFeatures_temporalInfo.csv', header = False, index = False, date_format = 'int32')"
   ]
  }
 ],
 "metadata": {
  "kernelspec": {
   "display_name": "Python 3",
   "language": "python",
   "name": "python3"
  },
  "language_info": {
   "codemirror_mode": {
    "name": "ipython",
    "version": 3
   },
   "file_extension": ".py",
   "mimetype": "text/x-python",
   "name": "python",
   "nbconvert_exporter": "python",
   "pygments_lexer": "ipython3",
   "version": "3.6.0"
  }
 },
 "nbformat": 4,
 "nbformat_minor": 2
}
