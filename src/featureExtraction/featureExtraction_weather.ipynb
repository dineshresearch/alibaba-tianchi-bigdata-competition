{
 "cells": [
  {
   "cell_type": "code",
   "execution_count": 1,
   "metadata": {
    "collapsed": true,
    "deletable": true,
    "editable": true
   },
   "outputs": [],
   "source": [
    "import pandas as pd\n",
    "import numpy as np\n",
    "import datetime as dt"
   ]
  },
  {
   "cell_type": "code",
   "execution_count": 2,
   "metadata": {
    "collapsed": true,
    "deletable": true,
    "editable": true
   },
   "outputs": [],
   "source": [
    "# define basic date functions and weather function\n",
    "def year(row):\n",
    "    date = dt.datetime.strptime(row['date'], \"%Y-%m-%d\")\n",
    "    return date.year\n",
    "\n",
    "def month(row):\n",
    "    date = dt.datetime.strptime(row['date'], \"%Y-%m-%d\")\n",
    "    return date.month\n",
    "\n",
    "def day(row):\n",
    "    date = dt.datetime.strptime(row['date'], \"%Y-%m-%d\")\n",
    "    return date.day\n",
    "\n",
    "def change_date(date):\n",
    "    date_list = date.split('/')\n",
    "    return '{}-{:02}-{:02}'.format(int(date_list[0]), int(date_list[1]), int(date_list[2]))\n",
    "\n",
    "def quantifyWeather(row):\n",
    "    if row['weather'] in ['暴雨', '大到暴雨', '大雨', '大暴雨']:\n",
    "        return 5\n",
    "    elif row['weather'] in ['中雨', '中雪', '中到大雨', '中到大雪']:\n",
    "        return 4\n",
    "    elif row['weather'] in ['小到中雨', '雨夹雪', '小到中雪']:\n",
    "        return 3\n",
    "    elif row['weather'] in ['阵雨', '小雨', '阵雪', '雷阵雨', '小雪']:\n",
    "        return 2\n",
    "    elif row['weather'] in ['阴', '霾', '雾']:\n",
    "        return 1\n",
    "    elif row['weather'] in ['晴', '多云']:\n",
    "        return 0"
   ]
  },
  {
   "cell_type": "code",
   "execution_count": 3,
   "metadata": {
    "collapsed": true,
    "deletable": true,
    "editable": true
   },
   "outputs": [],
   "source": [
    "#loading original data\n",
    "weather_info = pd.read_csv('../dataset/weather_info.csv')\n",
    "pm = pd.read_csv('../dataset/pm2.5.csv')\n",
    "\n",
    "#load time history data\n",
    "payTH = np.loadtxt('../preprocess/payTH_parallel.txt', dtype = 'int32')\n",
    "\n",
    "shopInfoFile = '../dataset/shop_info.txt'\n",
    "shopInfo = pd.read_table(shopInfoFile, sep = ',', header = None)\n",
    "shopInfo.columns = ['shopID', 'city', 'locationID', 'perPay', 'score', 'commentCnt', 'shopLevel', 'cate1', 'cate2', 'cate3']"
   ]
  },
  {
   "cell_type": "code",
   "execution_count": 4,
   "metadata": {
    "collapsed": false,
    "deletable": true,
    "editable": true
   },
   "outputs": [],
   "source": [
    "# process the date information in the weather dataframe\n",
    "weather_info.columns = ['city', 'date', 'maxTemp', 'minTemp', 'weather', 'wind_direction', 'wind_level']\n",
    "weather_info = weather_info.drop(['wind_direction', 'wind_level'], axis=1)\n",
    "weather_info['year'] = weather_info.apply (lambda row: year(row),axis=1)\n",
    "weather_info['month'] = weather_info.apply (lambda row: month(row),axis=1)\n",
    "weather_info['day'] = weather_info.apply (lambda row: day(row),axis=1)"
   ]
  },
  {
   "cell_type": "code",
   "execution_count": 5,
   "metadata": {
    "collapsed": false,
    "deletable": true,
    "editable": true
   },
   "outputs": [
    {
     "data": {
      "text/plain": [
       "array(['多云', '暴雨', '中雨', '阵雨', '大雨', '小到中雨', '晴', '阴', '小雨', '中到大雨', '雷阵雨',\n",
       "       '大到暴雨', '霾', '雾', '雨夹雪', '阵雪', '中雪', '大暴雨', '中到大雪', '小到中雪', '小雪'], dtype=object)"
      ]
     },
     "execution_count": 5,
     "metadata": {},
     "output_type": "execute_result"
    }
   ],
   "source": [
    "# check weather information\n",
    "weather_info = weather_info.drop(weather_info[weather_info['date'] > \"2016-11-14\"].index)\n",
    "weather_info = weather_info.drop(weather_info[weather_info['date'] < \"2016-09-20\"].index)\n",
    "weather_info['weather'].unique()"
   ]
  },
  {
   "cell_type": "code",
   "execution_count": 6,
   "metadata": {
    "collapsed": false,
    "deletable": true,
    "editable": true
   },
   "outputs": [],
   "source": [
    "# generate weather code\n",
    "weather_info.index = range(len(weather_info))\n",
    "weather_info['weather'] = weather_info.apply (lambda row: quantifyWeather(row),axis=1)\n",
    "pm['Date'] = list(map(change_date, pm['Date']))\n",
    "pm_new = pm[pm['Date'] < \"2016-11-15\"]\n",
    "pm_new = pm_new[pm_new['Date'] > \"2016-09-19\"]\n",
    "pm_new.reset_index(drop=True, inplace=True)"
   ]
  },
  {
   "cell_type": "markdown",
   "metadata": {},
   "source": [
    "# generate weather data for training and validation"
   ]
  },
  {
   "cell_type": "code",
   "execution_count": 7,
   "metadata": {
    "collapsed": true,
    "deletable": true,
    "editable": true
   },
   "outputs": [],
   "source": [
    "startDateTrain = dt.date(2016, 9, 20)\n",
    "endDateTrain = dt.date(2016, 10, 17)\n",
    "startDateTest = dt.date(2016, 10, 18)\n",
    "endDateTest = dt.date(2016, 10, 31)\n",
    "startDate = dt.date(2015, 7, 1)\n",
    "endDate = dt.date(2016, 10, 31)\n",
    "\n",
    "columns = ['shopID', 'year', 'month', 'day', 'maxTemp', 'minTemp', 'weather', 'pm']"
   ]
  },
  {
   "cell_type": "code",
   "execution_count": 8,
   "metadata": {
    "collapsed": false,
    "deletable": true,
    "editable": true
   },
   "outputs": [],
   "source": [
    "weatherDataTrain = {}\n",
    "for column in columns:\n",
    "    weatherDataTrain[column] = []\n",
    "\n",
    "cities = shopInfo['city']\n",
    "    \n",
    "for shopID in shopInfo['shopID']:\n",
    "    city = cities[shopID - 1]\n",
    "    curDate = startDateTrain\n",
    "    endDate = endDateTrain + dt.timedelta(days = 1)\n",
    "    while curDate != endDate:\n",
    "        cityWeather = weather_info[weather_info['city'] == city]\n",
    "        weatherRecord = cityWeather[cityWeather['date'] == curDate.strftime('%Y-%m-%d')]\n",
    "        \n",
    "        for shopCol in columns:\n",
    "            if shopCol == 'year':\n",
    "                weatherDataTrain[shopCol].append(curDate.year)\n",
    "            elif shopCol == 'month':\n",
    "                weatherDataTrain[shopCol].append(curDate.month)\n",
    "            elif shopCol == 'day':\n",
    "                weatherDataTrain[shopCol].append(curDate.day)\n",
    "            elif shopCol == 'shopID':\n",
    "                weatherDataTrain[shopCol].append(shopID)\n",
    "            elif shopCol == 'pm':\n",
    "                pm = pm_new[pm_new['Date'] == curDate.strftime('%Y-%m-%d')][city].values[0]\n",
    "                weatherDataTrain[shopCol].append(pm)\n",
    "            else:\n",
    "                value = weatherRecord[shopCol].values[0]\n",
    "                weatherDataTrain[shopCol].append(value)\n",
    "        curDate = curDate + dt.timedelta(days = 1)"
   ]
  },
  {
   "cell_type": "code",
   "execution_count": 9,
   "metadata": {
    "collapsed": true,
    "deletable": true,
    "editable": true
   },
   "outputs": [],
   "source": [
    "trainFeatures_weather = pd.DataFrame(weatherDataTrain, columns = columns)\n",
    "trainFeatures_weather.to_csv('../preprocess/trainValidFeatures_weather.csv', header = False, index = False, date_format = 'float32')"
   ]
  },
  {
   "cell_type": "code",
   "execution_count": 10,
   "metadata": {
    "collapsed": false,
    "deletable": true,
    "editable": true
   },
   "outputs": [],
   "source": [
    "weatherDataTest = {}\n",
    "for column in columns:\n",
    "    weatherDataTest[column] = []\n",
    "\n",
    "cities = shopInfo['city']\n",
    "    \n",
    "for shopID in shopInfo['shopID']:\n",
    "    city = cities[shopID - 1]\n",
    "    curDate = startDateTest\n",
    "    endDate = endDateTest + dt.timedelta(days = 1)\n",
    "    while curDate != endDate:\n",
    "        cityWeather = weather_info[weather_info['city'] == city]\n",
    "        weatherRecord = cityWeather[cityWeather['date'] == curDate.strftime('%Y-%m-%d')]\n",
    "        \n",
    "        for shopCol in columns:\n",
    "            if shopCol == 'year':\n",
    "                weatherDataTest[shopCol].append(curDate.year)\n",
    "            elif shopCol == 'month':\n",
    "                weatherDataTest[shopCol].append(curDate.month)\n",
    "            elif shopCol == 'day':\n",
    "                weatherDataTest[shopCol].append(curDate.day)\n",
    "            elif shopCol == 'shopID':\n",
    "                weatherDataTest[shopCol].append(shopID)\n",
    "            elif shopCol == 'pm':\n",
    "                pm = pm_new[pm_new['Date'] == curDate.strftime('%Y-%m-%d')][city].values[0]\n",
    "                weatherDataTest[shopCol].append(pm)\n",
    "            else:\n",
    "                value = weatherRecord[shopCol].values[0]\n",
    "                weatherDataTest[shopCol].append(value)\n",
    "        curDate = curDate + dt.timedelta(days = 1)"
   ]
  },
  {
   "cell_type": "code",
   "execution_count": 11,
   "metadata": {
    "collapsed": true,
    "deletable": true,
    "editable": true
   },
   "outputs": [],
   "source": [
    "testFeatures_weather = pd.DataFrame(weatherDataTest, columns = columns)\n",
    "testFeatures_weather.to_csv('../preprocess/validFeatures_weather.csv', header = False, index = False, date_format = 'float32')"
   ]
  },
  {
   "cell_type": "markdown",
   "metadata": {
    "collapsed": true,
    "deletable": true,
    "editable": true
   },
   "source": [
    "# generate weather features for training and testing"
   ]
  },
  {
   "cell_type": "code",
   "execution_count": 12,
   "metadata": {
    "collapsed": false,
    "deletable": true,
    "editable": true
   },
   "outputs": [],
   "source": [
    "startDateTrain = dt.date(2016, 10, 4)\n",
    "endDateTrain = dt.date(2016, 10, 31)\n",
    "startDateTest = dt.date(2016, 11, 1)\n",
    "endDateTest = dt.date(2016, 11, 14)\n",
    "startDate = dt.date(2015, 7, 1)\n",
    "endDate = dt.date(2016, 10, 31)\n",
    "\n",
    "columns = ['shopID', 'year', 'month', 'day', 'maxTemp', 'minTemp', 'weather', 'pm']"
   ]
  },
  {
   "cell_type": "code",
   "execution_count": 13,
   "metadata": {
    "collapsed": false,
    "deletable": true,
    "editable": true
   },
   "outputs": [],
   "source": [
    "weatherDataTrain = {}\n",
    "for column in columns:\n",
    "    weatherDataTrain[column] = []\n",
    "\n",
    "cities = shopInfo['city']\n",
    "    \n",
    "for shopID in shopInfo['shopID']:\n",
    "    city = cities[shopID - 1]\n",
    "    curDate = startDateTrain\n",
    "    endDate = endDateTrain + dt.timedelta(days = 1)\n",
    "    while curDate != endDate:\n",
    "        cityWeather = weather_info[weather_info['city'] == city]\n",
    "        weatherRecord = cityWeather[cityWeather['date'] == curDate.strftime('%Y-%m-%d')]\n",
    "        \n",
    "        for shopCol in columns:\n",
    "            if shopCol == 'year':\n",
    "                weatherDataTrain[shopCol].append(curDate.year)\n",
    "            elif shopCol == 'month':\n",
    "                weatherDataTrain[shopCol].append(curDate.month)\n",
    "            elif shopCol == 'day':\n",
    "                weatherDataTrain[shopCol].append(curDate.day)\n",
    "            elif shopCol == 'shopID':\n",
    "                weatherDataTrain[shopCol].append(shopID)\n",
    "            elif shopCol == 'pm':\n",
    "                pm = pm_new[pm_new['Date'] == curDate.strftime('%Y-%m-%d')][city].values[0]\n",
    "                weatherDataTrain[shopCol].append(pm)\n",
    "            else:\n",
    "                value = weatherRecord[shopCol].values[0]\n",
    "                weatherDataTrain[shopCol].append(value)\n",
    "        curDate = curDate + dt.timedelta(days = 1)"
   ]
  },
  {
   "cell_type": "code",
   "execution_count": 14,
   "metadata": {
    "collapsed": true,
    "deletable": true,
    "editable": true
   },
   "outputs": [],
   "source": [
    "trainFeatures_weather = pd.DataFrame(weatherDataTrain, columns = columns)\n",
    "trainFeatures_weather.to_csv('../preprocess/trainTestFeatures_weather.csv', header = False, index = False, date_format = 'float32')"
   ]
  },
  {
   "cell_type": "code",
   "execution_count": 15,
   "metadata": {
    "collapsed": false,
    "deletable": true,
    "editable": true
   },
   "outputs": [],
   "source": [
    "weatherDataTest = {}\n",
    "for column in columns:\n",
    "    weatherDataTest[column] = []\n",
    "\n",
    "cities = shopInfo['city']\n",
    "    \n",
    "for shopID in shopInfo['shopID']:\n",
    "    city = cities[shopID - 1]\n",
    "    curDate = startDateTest\n",
    "    endDate = endDateTest + dt.timedelta(days = 1)\n",
    "    while curDate != endDate:\n",
    "        cityWeather = weather_info[weather_info['city'] == city]\n",
    "        weatherRecord = cityWeather[cityWeather['date'] == curDate.strftime('%Y-%m-%d')]\n",
    "        \n",
    "        for shopCol in columns:\n",
    "            if shopCol == 'year':\n",
    "                weatherDataTest[shopCol].append(curDate.year)\n",
    "            elif shopCol == 'month':\n",
    "                weatherDataTest[shopCol].append(curDate.month)\n",
    "            elif shopCol == 'day':\n",
    "                weatherDataTest[shopCol].append(curDate.day)\n",
    "            elif shopCol == 'shopID':\n",
    "                weatherDataTest[shopCol].append(shopID)\n",
    "            elif shopCol == 'pm':\n",
    "                pm = pm_new[pm_new['Date'] == curDate.strftime('%Y-%m-%d')][city].values[0]\n",
    "                weatherDataTest[shopCol].append(pm)\n",
    "            else:\n",
    "                value = weatherRecord[shopCol].values[0]\n",
    "                weatherDataTest[shopCol].append(value)\n",
    "        curDate = curDate + dt.timedelta(days = 1)"
   ]
  },
  {
   "cell_type": "code",
   "execution_count": 16,
   "metadata": {
    "collapsed": true,
    "deletable": true,
    "editable": true
   },
   "outputs": [],
   "source": [
    "testFeatures_weather = pd.DataFrame(weatherDataTest, columns = columns)\n",
    "testFeatures_weather.to_csv('../preprocess/testFeatures_weather.csv', header = False, index = False, date_format = 'float32')"
   ]
  }
 ],
 "metadata": {
  "kernelspec": {
   "display_name": "Python 3",
   "language": "python",
   "name": "python3"
  },
  "language_info": {
   "codemirror_mode": {
    "name": "ipython",
    "version": 3
   },
   "file_extension": ".py",
   "mimetype": "text/x-python",
   "name": "python",
   "nbconvert_exporter": "python",
   "pygments_lexer": "ipython3",
   "version": "3.6.0"
  }
 },
 "nbformat": 4,
 "nbformat_minor": 2
}
