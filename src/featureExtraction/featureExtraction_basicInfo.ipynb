{
 "cells": [
  {
   "cell_type": "code",
   "execution_count": 1,
   "metadata": {
    "collapsed": true,
    "deletable": true,
    "editable": true
   },
   "outputs": [],
   "source": [
    "import numpy as np\n",
    "import pandas as pd\n",
    "import datetime as dt"
   ]
  },
  {
   "cell_type": "code",
   "execution_count": 2,
   "metadata": {
    "collapsed": false,
    "deletable": true,
    "editable": true
   },
   "outputs": [],
   "source": [
    "#loading data\n",
    "shopInfoFile = '../dataset/shop_info.txt'\n",
    "\n",
    "shopInfo = pd.read_table(shopInfoFile, sep = ',', header = None)\n",
    "shopInfo.columns = ['shopID', 'city', 'locationID', 'perPay', 'score', 'commentCnt', 'shopLevel', 'cate1', 'cate2', 'cate3']"
   ]
  },
  {
   "cell_type": "code",
   "execution_count": 3,
   "metadata": {
    "collapsed": false,
    "deletable": true,
    "editable": true
   },
   "outputs": [],
   "source": [
    "#informationi on shops in different cities\n",
    "cities = np.unique(shopInfo['city'])\n",
    "shopByCity = {}\n",
    "shopNumByCity = {}\n",
    "for city in cities:\n",
    "    shopNumByCity[city] = shopInfo[shopInfo['city'] == city].shape[0]\n",
    "    shopByCity[city] = np.array(shopInfo[shopInfo['city'] == city]['shopID'])"
   ]
  },
  {
   "cell_type": "code",
   "execution_count": 4,
   "metadata": {
    "collapsed": false,
    "deletable": true,
    "editable": true
   },
   "outputs": [],
   "source": [
    "# generate city code\n",
    "cities = np.unique(shopInfo['city'])\n",
    "cityDic = {}\n",
    "for index, city in enumerate(cities):\n",
    "    cityDic[city] = shopNumByCity[city]\n",
    "cityDF = pd.DataFrame(cityDic, index = ['code']).T\n",
    "cityDF.to_csv('../preprocess/cityEncoding.csv', header = False)"
   ]
  },
  {
   "cell_type": "code",
   "execution_count": 5,
   "metadata": {
    "collapsed": false,
    "deletable": true,
    "editable": true
   },
   "outputs": [
    {
     "name": "stderr",
     "output_type": "stream",
     "text": [
      "/usr/lib/python3.6/site-packages/ipykernel/__main__.py:15: UserWarning: Boolean Series key will be reindexed to match DataFrame index.\n",
      "/usr/lib/python3.6/site-packages/numpy/lib/arraysetops.py:216: FutureWarning: numpy not_equal will not check object identity in the future. The comparison did not return the same result as suggested by the identity (`is`)) and will change.\n",
      "  flag = np.concatenate(([True], aux[1:] != aux[:-1]))\n"
     ]
    }
   ],
   "source": [
    "# generate category code\n",
    "categoryDic = {}\n",
    "classFirst = np.unique(shopInfo['cate1'])\n",
    "count = 1\n",
    "cur = 1\n",
    "interval = 1000\n",
    "countMS = len(classFirst) * 1000\n",
    "intervalMS = 30\n",
    "for index1, class1 in enumerate(classFirst):\n",
    "    categoryDic[class1] = {}\n",
    "    classSecond = np.unique(shopInfo[shopInfo['cate1'] == class1]['cate2'])\n",
    "\n",
    "    for class2 in classSecond:\n",
    "        categoryDic[class1][class2] = {}\n",
    "        classThird = np.unique(shopInfo[shopInfo['cate1'] == class1][shopInfo['cate2'] == class2]['cate3'])\n",
    "        for class3 in classThird:\n",
    "            if class1 == '美食':\n",
    "                categoryDic[class1][class2][class3] = countMS\n",
    "                countMS = countMS + 1\n",
    "            else:\n",
    "                categoryDic[class1][class2][class3] = cur\n",
    "                cur = cur + 1\n",
    "        if class1 == '美食':\n",
    "            countMS = countMS + intervalMS - 1\n",
    "        else:\n",
    "            cur = cur + intervalMS - 1\n",
    "            \n",
    "    if class1 != '美食':\n",
    "        cur = count * interval\n",
    "        count = count + 1"
   ]
  },
  {
   "cell_type": "code",
   "execution_count": 6,
   "metadata": {
    "collapsed": false,
    "deletable": true,
    "editable": true
   },
   "outputs": [
    {
     "name": "stderr",
     "output_type": "stream",
     "text": [
      "/usr/lib/python3.6/site-packages/ipykernel/__main__.py:22: SettingWithCopyWarning: \n",
      "A value is trying to be set on a copy of a slice from a DataFrame\n",
      "\n",
      "See the caveats in the documentation: http://pandas.pydata.org/pandas-docs/stable/indexing.html#indexing-view-versus-copy\n",
      "/usr/lib/python3.6/site-packages/ipykernel/__main__.py:23: SettingWithCopyWarning: \n",
      "A value is trying to be set on a copy of a slice from a DataFrame\n",
      "\n",
      "See the caveats in the documentation: http://pandas.pydata.org/pandas-docs/stable/indexing.html#indexing-view-versus-copy\n"
     ]
    }
   ],
   "source": [
    "# save city code and category code data\n",
    "cityCode = []\n",
    "categoryCode = []\n",
    "for shopID in shopInfo['shopID']:\n",
    "    record = shopInfo.ix[shopID - 1]\n",
    "    city = record['city']\n",
    "    cate1 = record['cate1']\n",
    "    cate2 = record['cate2']\n",
    "    cate3 = record['cate3']\n",
    "    cityCode.append(cityDic[city])\n",
    "    categoryCode.append(categoryDic[cate1][cate2][cate3])\n",
    "\n",
    "shopInfo_new = pd.read_table(shopInfoFile, sep = ',', header = None)\n",
    "shopInfo_new.columns = ['shopID', 'city', 'locationID', 'perPay', 'score', 'commentCnt', 'shopLevel', 'cate1', 'cate2', 'cate3']\n",
    "shopInfo_new['city'] = cityCode\n",
    "del shopInfo_new['cate1']\n",
    "del shopInfo_new['locationID']\n",
    "del shopInfo_new['cate2']\n",
    "del shopInfo_new['cate3']\n",
    "shopInfo_new['category'] = categoryCode\n",
    "\n",
    "shopInfo_new['score'][np.isnan(shopInfo_new['score'])] = 0.0\n",
    "shopInfo_new['commentCnt'][np.isnan(shopInfo_new['commentCnt'])] = 0.0\n",
    "\n",
    "shopInfo_new.to_csv('../preprocess/shopInfo.csv', header = False, index = False, date_format = 'int32')\n",
    "\n",
    "shopInfo_load = pd.read_csv('../preprocess/shopInfo.csv', header = None, dtype = 'int32')\n",
    "shopInfo_load.columns = ['shopID', 'city', 'perPay', 'score', 'commentCnt', 'shopLevel', 'category']"
   ]
  },
  {
   "cell_type": "code",
   "execution_count": 7,
   "metadata": {
    "collapsed": false,
    "deletable": true,
    "editable": true
   },
   "outputs": [],
   "source": [
    "# define dates for training and testing\n",
    "startDateTrain = dt.date(2016, 9, 20)\n",
    "endDateTrain = dt.date(2016, 10, 17)\n",
    "startDateTest = dt.date(2016, 10, 18)\n",
    "endDateTest = dt.date(2016, 10, 31)\n",
    "columns = ['shopID', 'year', 'month', 'day', 'city', 'perPay', 'score', 'commentCnt', 'shopLevel', 'category']"
   ]
  },
  {
   "cell_type": "code",
   "execution_count": 8,
   "metadata": {
    "collapsed": false,
    "deletable": true,
    "editable": true
   },
   "outputs": [],
   "source": [
    "shopDataTrain = {}\n",
    "for column in columns:\n",
    "    shopDataTrain[column] = []\n",
    "\n",
    "for shopID in shopInfo_load['shopID']:\n",
    "    curDate = startDateTrain\n",
    "    endDate = endDateTrain + dt.timedelta(days = 1)\n",
    "    while curDate != endDate:\n",
    "        for shopCol in shopInfo_load.columns:\n",
    "            shopDataTrain[shopCol].append(shopInfo_load[shopCol][shopID - 1])\n",
    "        shopDataTrain['year'].append(curDate.year)\n",
    "        shopDataTrain['month'].append(curDate.month)\n",
    "        shopDataTrain['day'].append(curDate.day)\n",
    "        curDate = curDate + dt.timedelta(days = 1)"
   ]
  },
  {
   "cell_type": "code",
   "execution_count": 9,
   "metadata": {
    "collapsed": true,
    "deletable": true,
    "editable": true
   },
   "outputs": [],
   "source": [
    "trainFeatures_basicInfo = pd.DataFrame(shopDataTrain, columns = columns)\n",
    "trainFeatures_basicInfo.to_csv('../preprocess/trainValidFeatures_basicInfo.csv', header = False, index = False, date_format = 'int32')"
   ]
  },
  {
   "cell_type": "code",
   "execution_count": 10,
   "metadata": {
    "collapsed": true,
    "deletable": true,
    "editable": true
   },
   "outputs": [],
   "source": [
    "shopDataTest = {}\n",
    "for column in columns:\n",
    "    shopDataTest[column] = []\n",
    "\n",
    "for shopID in shopInfo_load['shopID']:\n",
    "    curDate = startDateTest\n",
    "    endDate = endDateTest + dt.timedelta(days = 1)\n",
    "    while curDate != endDate:\n",
    "        for shopCol in shopInfo_load.columns:\n",
    "            shopDataTest[shopCol].append(shopInfo_load[shopCol][shopID - 1])\n",
    "        shopDataTest['year'].append(curDate.year)\n",
    "        shopDataTest['month'].append(curDate.month)\n",
    "        shopDataTest['day'].append(curDate.day)\n",
    "        curDate = curDate + dt.timedelta(days = 1)"
   ]
  },
  {
   "cell_type": "code",
   "execution_count": 11,
   "metadata": {
    "collapsed": true,
    "deletable": true,
    "editable": true
   },
   "outputs": [],
   "source": [
    "testFeatures_basicInfo = pd.DataFrame(shopDataTest, columns = columns)\n",
    "testFeatures_basicInfo.to_csv('../preprocess/validFeatures_basicInfo.csv', header = False, index = False, date_format = 'int32')"
   ]
  },
  {
   "cell_type": "code",
   "execution_count": 12,
   "metadata": {
    "collapsed": true,
    "deletable": true,
    "editable": true
   },
   "outputs": [],
   "source": [
    "#trainTest data\n",
    "startDateTrain = dt.date(2016, 10, 4)\n",
    "endDateTrain = dt.date(2016, 10, 31)\n",
    "startDateTest = dt.date(2016, 11, 1)\n",
    "endDateTest = dt.date(2016, 11, 14)\n",
    "columns = ['shopID', 'year', 'month', 'day', 'city', 'perPay', 'score', 'commentCnt', 'shopLevel', 'category']"
   ]
  },
  {
   "cell_type": "code",
   "execution_count": 13,
   "metadata": {
    "collapsed": true,
    "deletable": true,
    "editable": true
   },
   "outputs": [],
   "source": [
    "shopDataTrain = {}\n",
    "for column in columns:\n",
    "    shopDataTrain[column] = []\n",
    "\n",
    "for shopID in shopInfo_load['shopID']:\n",
    "    curDate = startDateTrain\n",
    "    endDate = endDateTrain + dt.timedelta(days = 1)\n",
    "    while curDate != endDate:\n",
    "        for shopCol in shopInfo_load.columns:\n",
    "            shopDataTrain[shopCol].append(shopInfo_load[shopCol][shopID - 1])\n",
    "        shopDataTrain['year'].append(curDate.year)\n",
    "        shopDataTrain['month'].append(curDate.month)\n",
    "        shopDataTrain['day'].append(curDate.day)\n",
    "        curDate = curDate + dt.timedelta(days = 1)"
   ]
  },
  {
   "cell_type": "code",
   "execution_count": 14,
   "metadata": {
    "collapsed": true,
    "deletable": true,
    "editable": true
   },
   "outputs": [],
   "source": [
    "trainFeatures_basicInfo = pd.DataFrame(shopDataTrain, columns = columns)\n",
    "trainFeatures_basicInfo.to_csv('../preprocess/trainTestFeatures_basicInfo.csv', header = False, index = False, date_format = 'int32')"
   ]
  },
  {
   "cell_type": "code",
   "execution_count": 15,
   "metadata": {
    "collapsed": true,
    "deletable": true,
    "editable": true
   },
   "outputs": [],
   "source": [
    "shopDataTest = {}\n",
    "for column in columns:\n",
    "    shopDataTest[column] = []\n",
    "\n",
    "for shopID in shopInfo_load['shopID']:\n",
    "    curDate = startDateTest\n",
    "    endDate = endDateTest + dt.timedelta(days = 1)\n",
    "    while curDate != endDate:\n",
    "        for shopCol in shopInfo_load.columns:\n",
    "            shopDataTest[shopCol].append(shopInfo_load[shopCol][shopID - 1])\n",
    "        shopDataTest['year'].append(curDate.year)\n",
    "        shopDataTest['month'].append(curDate.month)\n",
    "        shopDataTest['day'].append(curDate.day)\n",
    "        curDate = curDate + dt.timedelta(days = 1)"
   ]
  },
  {
   "cell_type": "code",
   "execution_count": 16,
   "metadata": {
    "collapsed": true,
    "deletable": true,
    "editable": true
   },
   "outputs": [],
   "source": [
    "testFeatures_basicInfo = pd.DataFrame(shopDataTest, columns = columns)\n",
    "testFeatures_basicInfo.to_csv('../preprocess/testFeatures_basicInfo.csv', header = False, index = False, date_format = 'int32')"
   ]
  }
 ],
 "metadata": {
  "kernelspec": {
   "display_name": "Python 3",
   "language": "python",
   "name": "python3"
  },
  "language_info": {
   "codemirror_mode": {
    "name": "ipython",
    "version": 3
   },
   "file_extension": ".py",
   "mimetype": "text/x-python",
   "name": "python",
   "nbconvert_exporter": "python",
   "pygments_lexer": "ipython3",
   "version": "3.6.0"
  }
 },
 "nbformat": 4,
 "nbformat_minor": 2
}
