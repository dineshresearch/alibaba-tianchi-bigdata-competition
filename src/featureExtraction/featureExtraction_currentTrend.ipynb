{
 "cells": [
  {
   "cell_type": "code",
   "execution_count": 1,
   "metadata": {
    "collapsed": true,
    "deletable": true,
    "editable": true
   },
   "outputs": [],
   "source": [
    "import numpy as np\n",
    "import pandas as pd\n",
    "import datetime as dt\n",
    "import scipy.stats as st\n",
    "from sklearn.linear_model import Ridge"
   ]
  },
  {
   "cell_type": "code",
   "execution_count": 2,
   "metadata": {
    "collapsed": true,
    "deletable": true,
    "editable": true
   },
   "outputs": [],
   "source": [
    "#load time history data\n",
    "payTH = np.loadtxt('../preprocess/payTH_parallel.txt', dtype = 'int32')\n",
    "\n",
    "shopInfoFile = '../dataset/shop_info.txt'\n",
    "shopInfo = pd.read_table(shopInfoFile, sep = ',', header = None)\n",
    "shopInfo.columns = ['shopID', 'city', 'locationID', 'perPay', 'score', 'commentCnt', 'shopLevel', 'cate1', 'cate2', 'cate3']"
   ]
  },
  {
   "cell_type": "code",
   "execution_count": 3,
   "metadata": {
    "collapsed": false,
    "deletable": true,
    "editable": true
   },
   "outputs": [],
   "source": [
    "# prepare current trend data\n",
    "startDateTrain = dt.date(2016, 9, 20)\n",
    "endDateTrain = dt.date(2016, 10, 17)\n",
    "startDateTest = dt.date(2016, 10, 18)\n",
    "endDateTest = dt.date(2016, 10, 31)\n",
    "startDate = dt.date(2015, 7, 1)\n",
    "endDate = dt.date(2016, 10, 31)\n",
    "\n",
    "periods = [7, 14, 28, 56, 112]\n",
    "trends = ['copy', 'ridge']\n",
    "columns = ['shopID', 'year', 'month', 'day']\n",
    "for period in periods:\n",
    "    for trend in trends:\n",
    "        column = 'last' + str(period) + 'days_' + trend\n",
    "        columns.append(column)\n",
    "\n",
    "dayNumTrain = []\n",
    "dayNumTest = []\n",
    "startDayNumTrain = (startDateTrain - startDate).days\n",
    "startDayNumTest = (startDateTest - startDate).days\n",
    "for period in periods:\n",
    "    dayNumTrain.append(np.arange(startDayNumTrain - period, startDayNumTrain))\n",
    "    dayNumTest.append(np.arange(startDayNumTest - period, startDayNumTest))\n",
    "\n",
    "patternDayOfWeekTrain = [2, 3, 4, 5, 6, 7, 1]\n",
    "patternDayOfWeekTest = [2, 3, 4, 5, 6, 7, 1]\n",
    "dayOfWeekTrain = []\n",
    "dayOfWeekTest = []\n",
    "for period in periods:\n",
    "    repeat = int(period/7)\n",
    "    dayOfWeekTrain.append(np.array(patternDayOfWeekTrain * repeat))\n",
    "    dayOfWeekTest.append(np.array(patternDayOfWeekTest * repeat))"
   ]
  },
  {
   "cell_type": "markdown",
   "metadata": {
    "deletable": true,
    "editable": true
   },
   "source": [
    "# generate current trend data for training and validation"
   ]
  },
  {
   "cell_type": "code",
   "execution_count": 4,
   "metadata": {
    "collapsed": false,
    "deletable": true,
    "editable": true
   },
   "outputs": [],
   "source": [
    "trendListTrain = []\n",
    "for index, pay in enumerate(payTH):\n",
    "    trendListTrain.append([])\n",
    "    days = (endDateTrain - startDateTrain).days + 1\n",
    "    for i in range(days):\n",
    "        trendListTrain[index].append([])\n",
    "        for j, period in enumerate(periods):\n",
    "            cur = (startDateTrain - startDate).days + i\n",
    "            end = cur - i - 1\n",
    "            start = end - period + 1\n",
    "            dataCal = pay[start:(end+1)]\n",
    "    \n",
    "            curDayOfWeek = patternDayOfWeekTrain[i%7]\n",
    "            dataCopy = dataCal[dayOfWeekTrain[j] == curDayOfWeek]\n",
    "            if dataCopy[dataCopy != 0].size > 0:\n",
    "                copy = np.mean(dataCopy[dataCopy != 0])\n",
    "            else:\n",
    "                copy = np.nan\n",
    "            \n",
    "            if dataCal[dataCal != 0].size > 0:\n",
    "                y = dataCal[dataCal != 0]\n",
    "                X = np.array([dayNumTrain[j][dataCal != 0], dayOfWeekTrain[j][dataCal != 0]]).T\n",
    "                clf = Ridge(alpha=1.0)\n",
    "                clf.fit(X, y)\n",
    "                curX = np.array([cur, curDayOfWeek]).reshape(1, -1)\n",
    "                ridge = clf.predict(curX)[0]\n",
    "            else:\n",
    "                ridge = np.nan\n",
    "                \n",
    "            trendListTrain[index][i].append([copy, ridge])"
   ]
  },
  {
   "cell_type": "code",
   "execution_count": 5,
   "metadata": {
    "collapsed": false,
    "deletable": true,
    "editable": true
   },
   "outputs": [],
   "source": [
    "trendListTest = []\n",
    "for index, pay in enumerate(payTH):\n",
    "    trendListTest.append([])\n",
    "    days = (endDateTest - startDateTest).days + 1\n",
    "    for i in range(days):\n",
    "        trendListTest[index].append([])\n",
    "        for j, period in enumerate(periods):\n",
    "            cur = (startDateTest - startDate).days + i\n",
    "            end = cur - i - 1\n",
    "            start = end - period + 1\n",
    "            dataCal = pay[start:(end+1)]\n",
    "    \n",
    "            curDayOfWeek = patternDayOfWeekTest[i%7]\n",
    "            dataCopy = dataCal[dayOfWeekTest[j] == curDayOfWeek]\n",
    "            if dataCopy[dataCopy != 0].size > 0:\n",
    "                copy = np.mean(dataCopy[dataCopy != 0])\n",
    "            else:\n",
    "                copy = np.nan\n",
    "            \n",
    "            if dataCal[dataCal != 0].size > 0:\n",
    "                y = dataCal[dataCal != 0]\n",
    "                X = np.array([dayNumTest[j][dataCal != 0], dayOfWeekTest[j][dataCal != 0]]).T\n",
    "                clf = Ridge(alpha=1.0)\n",
    "                clf.fit(X, y)\n",
    "                curX = np.array([cur, curDayOfWeek]).reshape(1, -1)\n",
    "                ridge = clf.predict(curX)[0]\n",
    "            else:\n",
    "                ridge = np.nan\n",
    "                \n",
    "            trendListTest[index][i].append([copy, ridge])"
   ]
  },
  {
   "cell_type": "code",
   "execution_count": 6,
   "metadata": {
    "collapsed": false,
    "deletable": true,
    "editable": true
   },
   "outputs": [],
   "source": [
    "trendDataTrain = {}\n",
    "for column in columns:\n",
    "    trendDataTrain[column] = []\n",
    "\n",
    "for shopID in shopInfo['shopID']:\n",
    "    curDate = startDateTrain\n",
    "    endDate = endDateTrain + dt.timedelta(days = 1)\n",
    "    while curDate != endDate:\n",
    "        for shopCol in columns:\n",
    "            if shopCol == 'year':\n",
    "                trendDataTrain[shopCol].append(curDate.year)\n",
    "            elif shopCol == 'month':\n",
    "                trendDataTrain[shopCol].append(curDate.month)\n",
    "            elif shopCol == 'day':\n",
    "                trendDataTrain[shopCol].append(curDate.day)\n",
    "            elif shopCol == 'shopID':\n",
    "                trendDataTrain[shopCol].append(shopID)\n",
    "            else:\n",
    "                period = int(shopCol.split('days')[0].split('last')[1])\n",
    "                trend = shopCol.split('_')[-1]\n",
    "                indexPeriod = periods.index(period)\n",
    "                indexTrend = trends.index(trend)\n",
    "                indexDate = (curDate - startDateTrain).days\n",
    "#                 print(shopID, indexDate, indexPeriod, indexTrend)\n",
    "                trendDataTrain[shopCol].append(trendListTrain[shopID - 1][indexDate][indexPeriod][indexTrend])            \n",
    "        curDate = curDate + dt.timedelta(days = 1)\n",
    "        \n",
    "trainFeatures_currentTrend = pd.DataFrame(trendDataTrain, columns = columns)"
   ]
  },
  {
   "cell_type": "code",
   "execution_count": 7,
   "metadata": {
    "collapsed": false,
    "deletable": true,
    "editable": true
   },
   "outputs": [],
   "source": [
    "trainFeatures_currentTrend = pd.DataFrame(trendDataTrain, columns = columns)\n",
    "trainFeatures_currentTrend.to_csv('../preprocess/trainValidFeatures_currentTrend.csv', header = False, index = False, date_format = 'float32')"
   ]
  },
  {
   "cell_type": "code",
   "execution_count": 8,
   "metadata": {
    "collapsed": false,
    "deletable": true,
    "editable": true
   },
   "outputs": [],
   "source": [
    "trendDataTest = {}\n",
    "for column in columns:\n",
    "    trendDataTest[column] = []\n",
    "\n",
    "for shopID in shopInfo['shopID']:\n",
    "    curDate = startDateTest\n",
    "    endDate = endDateTest + dt.timedelta(days = 1)\n",
    "    while curDate != endDate:\n",
    "        for shopCol in columns:\n",
    "            if shopCol == 'year':\n",
    "                trendDataTest[shopCol].append(curDate.year)\n",
    "            elif shopCol == 'month':\n",
    "                trendDataTest[shopCol].append(curDate.month)\n",
    "            elif shopCol == 'day':\n",
    "                trendDataTest[shopCol].append(curDate.day)\n",
    "            elif shopCol == 'shopID':\n",
    "                trendDataTest[shopCol].append(shopID)\n",
    "            else:\n",
    "                period = int(shopCol.split('days')[0].split('last')[1])\n",
    "                trend = shopCol.split('_')[-1]\n",
    "                indexPeriod = periods.index(period)\n",
    "                indexTrend = trends.index(trend)\n",
    "                indexDate = (curDate - startDateTest).days\n",
    "#                 print(shopID, indexDate, indexPeriod, indexTrend)\n",
    "                trendDataTest[shopCol].append(trendListTest[shopID - 1][indexDate][indexPeriod][indexTrend])            \n",
    "        curDate = curDate + dt.timedelta(days = 1)\n",
    "        \n",
    "testFeatures_currentTrend = pd.DataFrame(trendDataTest, columns = columns)"
   ]
  },
  {
   "cell_type": "code",
   "execution_count": 9,
   "metadata": {
    "collapsed": true,
    "deletable": true,
    "editable": true
   },
   "outputs": [],
   "source": [
    "testFeatures_currentTrend = pd.DataFrame(trendDataTest, columns = columns)\n",
    "testFeatures_currentTrend.to_csv('../preprocess/validFeatures_currentTrend.csv', header = False, index = False, date_format = 'float32')"
   ]
  },
  {
   "cell_type": "markdown",
   "metadata": {
    "deletable": true,
    "editable": true
   },
   "source": [
    "# generate current trend data for training and testing"
   ]
  },
  {
   "cell_type": "code",
   "execution_count": 10,
   "metadata": {
    "collapsed": true,
    "deletable": true,
    "editable": true
   },
   "outputs": [],
   "source": [
    "startDateTrain = dt.date(2016, 10, 4)\n",
    "endDateTrain = dt.date(2016, 10, 31)\n",
    "startDateTest = dt.date(2016, 11, 1)\n",
    "endDateTest = dt.date(2016, 11, 14)\n",
    "startDate = dt.date(2015, 7, 1)\n",
    "endDate = dt.date(2016, 10, 31)\n",
    "\n",
    "periods = [7, 14, 28, 56, 112]\n",
    "trends = ['copy', 'ridge']\n",
    "columns = ['shopID', 'year', 'month', 'day']\n",
    "for period in periods:\n",
    "    for trend in trends:\n",
    "        column = 'last' + str(period) + 'days_' + trend\n",
    "        columns.append(column)\n",
    "\n",
    "dayNumTrain = []\n",
    "dayNumTest = []\n",
    "startDayNumTrain = (startDateTrain - startDate).days\n",
    "startDayNumTest = (startDateTest - startDate).days\n",
    "for period in periods:\n",
    "    dayNumTrain.append(np.arange(startDayNumTrain - period, startDayNumTrain))\n",
    "    dayNumTest.append(np.arange(startDayNumTest - period, startDayNumTest))\n",
    "\n",
    "patternDayOfWeekTrain = [2, 3, 4, 5, 6, 7, 1]\n",
    "patternDayOfWeekTest = [2, 3, 4, 5, 6, 7, 1]\n",
    "dayOfWeekTrain = []\n",
    "dayOfWeekTest = []\n",
    "for period in periods:\n",
    "    repeat = int(period/7)\n",
    "    dayOfWeekTrain.append(np.array(patternDayOfWeekTrain * repeat))\n",
    "    dayOfWeekTest.append(np.array(patternDayOfWeekTest * repeat))"
   ]
  },
  {
   "cell_type": "code",
   "execution_count": 11,
   "metadata": {
    "collapsed": false,
    "deletable": true,
    "editable": true
   },
   "outputs": [],
   "source": [
    "trendListTrain = []\n",
    "for index, pay in enumerate(payTH):\n",
    "    trendListTrain.append([])\n",
    "    days = (endDateTrain - startDateTrain).days + 1\n",
    "    for i in range(days):\n",
    "        trendListTrain[index].append([])\n",
    "        for j, period in enumerate(periods):\n",
    "            cur = (startDateTrain - startDate).days + i\n",
    "            end = cur - i - 1\n",
    "            start = end - period + 1\n",
    "            dataCal = pay[start:(end+1)]\n",
    "    \n",
    "            curDayOfWeek = patternDayOfWeekTrain[i%7]\n",
    "            dataCopy = dataCal[dayOfWeekTrain[j] == curDayOfWeek]\n",
    "            if dataCopy[dataCopy != 0].size > 0:\n",
    "                copy = np.mean(dataCopy[dataCopy != 0])\n",
    "            else:\n",
    "                copy = np.nan\n",
    "            \n",
    "            if dataCal[dataCal != 0].size > 0:\n",
    "                y = dataCal[dataCal != 0]\n",
    "                X = np.array([dayNumTrain[j][dataCal != 0], dayOfWeekTrain[j][dataCal != 0]]).T\n",
    "                clf = Ridge(alpha=1.0)\n",
    "                clf.fit(X, y)\n",
    "                curX = np.array([cur, curDayOfWeek]).reshape(1, -1)\n",
    "                ridge = clf.predict(curX)[0]\n",
    "            else:\n",
    "                ridge = np.nan\n",
    "                \n",
    "            trendListTrain[index][i].append([copy, ridge])"
   ]
  },
  {
   "cell_type": "code",
   "execution_count": 12,
   "metadata": {
    "collapsed": false,
    "deletable": true,
    "editable": true
   },
   "outputs": [],
   "source": [
    "trendListTest = []\n",
    "for index, pay in enumerate(payTH):\n",
    "    trendListTest.append([])\n",
    "    days = (endDateTest - startDateTest).days + 1\n",
    "    for i in range(days):\n",
    "        trendListTest[index].append([])\n",
    "        for j, period in enumerate(periods):\n",
    "            cur = (startDateTest - startDate).days + i\n",
    "            end = cur - i - 1\n",
    "            start = end - period + 1\n",
    "            dataCal = pay[start:(end+1)]\n",
    "    \n",
    "            curDayOfWeek = patternDayOfWeekTest[i%7]\n",
    "            dataCopy = dataCal[dayOfWeekTest[j] == curDayOfWeek]\n",
    "            if dataCopy[dataCopy != 0].size > 0:\n",
    "                copy = np.mean(dataCopy[dataCopy != 0])\n",
    "            else:\n",
    "                copy = np.nan\n",
    "            \n",
    "            if dataCal[dataCal != 0].size > 0:\n",
    "                y = dataCal[dataCal != 0]\n",
    "                X = np.array([dayNumTest[j][dataCal != 0], dayOfWeekTest[j][dataCal != 0]]).T\n",
    "                clf = Ridge(alpha=1.0)\n",
    "                clf.fit(X, y)\n",
    "                curX = np.array([cur, curDayOfWeek]).reshape(1, -1)\n",
    "                ridge = clf.predict(curX)[0]\n",
    "            else:\n",
    "                ridge = np.nan\n",
    "                \n",
    "            trendListTest[index][i].append([copy, ridge])"
   ]
  },
  {
   "cell_type": "code",
   "execution_count": 13,
   "metadata": {
    "collapsed": true,
    "deletable": true,
    "editable": true
   },
   "outputs": [],
   "source": [
    "trendDataTrain = {}\n",
    "for column in columns:\n",
    "    trendDataTrain[column] = []\n",
    "\n",
    "for shopID in shopInfo['shopID']:\n",
    "    curDate = startDateTrain\n",
    "    endDate = endDateTrain + dt.timedelta(days = 1)\n",
    "    while curDate != endDate:\n",
    "        for shopCol in columns:\n",
    "            if shopCol == 'year':\n",
    "                trendDataTrain[shopCol].append(curDate.year)\n",
    "            elif shopCol == 'month':\n",
    "                trendDataTrain[shopCol].append(curDate.month)\n",
    "            elif shopCol == 'day':\n",
    "                trendDataTrain[shopCol].append(curDate.day)\n",
    "            elif shopCol == 'shopID':\n",
    "                trendDataTrain[shopCol].append(shopID)\n",
    "            else:\n",
    "                period = int(shopCol.split('days')[0].split('last')[1])\n",
    "                trend = shopCol.split('_')[-1]\n",
    "                indexPeriod = periods.index(period)\n",
    "                indexTrend = trends.index(trend)\n",
    "                indexDate = (curDate - startDateTrain).days\n",
    "#                 print(shopID, indexDate, indexPeriod, indexTrend)\n",
    "                trendDataTrain[shopCol].append(trendListTrain[shopID - 1][indexDate][indexPeriod][indexTrend])            \n",
    "        curDate = curDate + dt.timedelta(days = 1)\n",
    "        \n",
    "trainFeatures_currentTrend = pd.DataFrame(trendDataTrain, columns = columns)"
   ]
  },
  {
   "cell_type": "code",
   "execution_count": 14,
   "metadata": {
    "collapsed": true,
    "deletable": true,
    "editable": true
   },
   "outputs": [],
   "source": [
    "trainFeatures_currentTrend = pd.DataFrame(trendDataTrain, columns = columns)\n",
    "trainFeatures_currentTrend.to_csv('../preprocess/trainTestFeatures_currentTrend.csv', header = False, index = False, date_format = 'float32')"
   ]
  },
  {
   "cell_type": "code",
   "execution_count": 15,
   "metadata": {
    "collapsed": true,
    "deletable": true,
    "editable": true
   },
   "outputs": [],
   "source": [
    "trendDataTest = {}\n",
    "for column in columns:\n",
    "    trendDataTest[column] = []\n",
    "\n",
    "for shopID in shopInfo['shopID']:\n",
    "    curDate = startDateTest\n",
    "    endDate = endDateTest + dt.timedelta(days = 1)\n",
    "    while curDate != endDate:\n",
    "        for shopCol in columns:\n",
    "            if shopCol == 'year':\n",
    "                trendDataTest[shopCol].append(curDate.year)\n",
    "            elif shopCol == 'month':\n",
    "                trendDataTest[shopCol].append(curDate.month)\n",
    "            elif shopCol == 'day':\n",
    "                trendDataTest[shopCol].append(curDate.day)\n",
    "            elif shopCol == 'shopID':\n",
    "                trendDataTest[shopCol].append(shopID)\n",
    "            else:\n",
    "                period = int(shopCol.split('days')[0].split('last')[1])\n",
    "                trend = shopCol.split('_')[-1]\n",
    "                indexPeriod = periods.index(period)\n",
    "                indexTrend = trends.index(trend)\n",
    "                indexDate = (curDate - startDateTest).days\n",
    "#                 print(shopID, indexDate, indexPeriod, indexTrend)\n",
    "                trendDataTest[shopCol].append(trendListTest[shopID - 1][indexDate][indexPeriod][indexTrend])            \n",
    "        curDate = curDate + dt.timedelta(days = 1)\n",
    "        \n",
    "testFeatures_currentTrend = pd.DataFrame(trendDataTest, columns = columns)"
   ]
  },
  {
   "cell_type": "code",
   "execution_count": 16,
   "metadata": {
    "collapsed": true,
    "deletable": true,
    "editable": true
   },
   "outputs": [],
   "source": [
    "testFeatures_currentTrend = pd.DataFrame(trendDataTest, columns = columns)\n",
    "testFeatures_currentTrend.to_csv('../preprocess/testFeatures_currentTrend.csv', header = False, index = False, date_format = 'float32')"
   ]
  }
 ],
 "metadata": {
  "kernelspec": {
   "display_name": "Python 3",
   "language": "python",
   "name": "python3"
  },
  "language_info": {
   "codemirror_mode": {
    "name": "ipython",
    "version": 3
   },
   "file_extension": ".py",
   "mimetype": "text/x-python",
   "name": "python",
   "nbconvert_exporter": "python",
   "pygments_lexer": "ipython3",
   "version": "3.6.0"
  }
 },
 "nbformat": 4,
 "nbformat_minor": 2
}
