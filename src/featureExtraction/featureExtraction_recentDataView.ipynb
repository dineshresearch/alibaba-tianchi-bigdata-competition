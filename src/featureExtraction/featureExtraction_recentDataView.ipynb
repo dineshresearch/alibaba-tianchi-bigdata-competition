{
 "cells": [
  {
   "cell_type": "code",
   "execution_count": 2,
   "metadata": {
    "collapsed": true,
    "deletable": true,
    "editable": true
   },
   "outputs": [],
   "source": [
    "import numpy as np\n",
    "import pandas as pd\n",
    "import datetime as dt\n",
    "import scipy.stats as st"
   ]
  },
  {
   "cell_type": "code",
   "execution_count": 3,
   "metadata": {
    "collapsed": false,
    "deletable": true,
    "editable": true
   },
   "outputs": [],
   "source": [
    "#load time history data\n",
    "viewTH = np.loadtxt('../preprocess/viewTH_parallel.txt', dtype = 'int32')\n",
    "\n",
    "shopInfoFile = '../dataset/shop_info.txt'\n",
    "shopInfo = pd.read_table(shopInfoFile, sep = ',', header = None)\n",
    "shopInfo.columns = ['shopID', 'city', 'locationID', 'perPay', 'score', 'commentCnt', 'shopLevel', 'cate1', 'cate2', 'cate3']"
   ]
  },
  {
   "cell_type": "markdown",
   "metadata": {},
   "source": [
    "# generate recent view data for training and validation"
   ]
  },
  {
   "cell_type": "code",
   "execution_count": 4,
   "metadata": {
    "collapsed": false,
    "deletable": true,
    "editable": true
   },
   "outputs": [],
   "source": [
    "startDateTrain = dt.date(2016, 9, 20)\n",
    "endDateTrain = dt.date(2016, 10, 17)\n",
    "startDateTest = dt.date(2016, 10, 18)\n",
    "endDateTest = dt.date(2016, 10, 31)\n",
    "startDate = dt.date(2015, 7, 1)\n",
    "endDate = dt.date(2016, 10, 31)\n",
    "\n",
    "periods = [7, 14, 28]\n",
    "stats = ['meanView', 'stdView', 'skewView', 'kurtosisView']\n",
    "columns = ['shopID', 'year', 'month', 'day']\n",
    "for period in periods:\n",
    "    for stat in stats:\n",
    "        column = 'last' + str(period) + 'days_' + stat\n",
    "        columns.append(column)"
   ]
  },
  {
   "cell_type": "code",
   "execution_count": 5,
   "metadata": {
    "collapsed": false,
    "deletable": true,
    "editable": true
   },
   "outputs": [],
   "source": [
    "statListTrain = []\n",
    "for index, pay in enumerate(viewTH):\n",
    "    statListTrain.append([])\n",
    "    days = (endDateTrain - startDateTrain).days + 1\n",
    "    for i in range(days):\n",
    "        statListTrain[index].append([])\n",
    "        for j, period in enumerate(periods):\n",
    "            cur = (startDateTrain - startDate).days + i\n",
    "            end = cur - days\n",
    "            start = end - period + 1\n",
    "            dataCal = pay[start:(end+1)]\n",
    "            dataCal = dataCal[dataCal != 0]   #remove zero values\n",
    "            \n",
    "            if dataCal.size > period/2:\n",
    "                mean = np.mean(dataCal)\n",
    "                std = np.std(dataCal)\n",
    "                skew = st.skew(dataCal)\n",
    "                kurtosis = st.kurtosis(dataCal)\n",
    "            else:\n",
    "                mean = np.nan\n",
    "                std = np.nan\n",
    "                skew = np.nan\n",
    "                kurtosis = np.nan\n",
    "                \n",
    "            statListTrain[index][i].append([mean, std, skew, kurtosis])"
   ]
  },
  {
   "cell_type": "code",
   "execution_count": 6,
   "metadata": {
    "collapsed": false,
    "deletable": true,
    "editable": true
   },
   "outputs": [],
   "source": [
    "statListTest = []\n",
    "for index, pay in enumerate(viewTH):\n",
    "    statListTest.append([])\n",
    "    days = (endDateTest - startDateTest).days + 1\n",
    "    for i in range(days):\n",
    "        statListTest[index].append([])\n",
    "        for j, period in enumerate(periods):\n",
    "            cur = (startDateTest - startDate).days + i\n",
    "            end = cur - days\n",
    "            start = end - period + 1\n",
    "            dataCal = pay[start:(end+1)]\n",
    "            dataCal = dataCal[dataCal != 0]   #remove zero values\n",
    "        \n",
    "            if dataCal.size > period/2:\n",
    "                mean = np.mean(dataCal)\n",
    "                std = np.std(dataCal)\n",
    "                skew = st.skew(dataCal)\n",
    "                kurtosis = st.kurtosis(dataCal)\n",
    "            else:\n",
    "                mean = np.nan\n",
    "                std = np.nan\n",
    "                skew = np.nan\n",
    "                kurtosis = np.nan\n",
    "            \n",
    "            statListTest[index][i].append([mean, std, skew, kurtosis])"
   ]
  },
  {
   "cell_type": "code",
   "execution_count": 7,
   "metadata": {
    "collapsed": false,
    "deletable": true,
    "editable": true
   },
   "outputs": [],
   "source": [
    "statDataTrain = {}\n",
    "for column in columns:\n",
    "    statDataTrain[column] = []\n",
    "\n",
    "for shopID in shopInfo['shopID']:\n",
    "    curDate = startDateTrain\n",
    "    endDate = endDateTrain + dt.timedelta(days = 1)\n",
    "    while curDate != endDate:\n",
    "        for shopCol in columns:\n",
    "            if shopCol == 'year':\n",
    "                statDataTrain[shopCol].append(curDate.year)\n",
    "            elif shopCol == 'month':\n",
    "                statDataTrain[shopCol].append(curDate.month)\n",
    "            elif shopCol == 'day':\n",
    "                statDataTrain[shopCol].append(curDate.day)\n",
    "            elif shopCol == 'shopID':\n",
    "                statDataTrain[shopCol].append(shopID)\n",
    "            else:\n",
    "                period = int(shopCol.split('days')[0].split('last')[1])\n",
    "                stat = shopCol.split('_')[-1]\n",
    "                indexPeriod = periods.index(period)\n",
    "                indexStat = stats.index(stat)\n",
    "                indexDate = (curDate - startDateTrain).days\n",
    "#                 print(shopID, indexDate, indexPeriod, indexStat)\n",
    "                statDataTrain[shopCol].append(statListTrain[shopID - 1][indexDate][indexPeriod][indexStat])            \n",
    "        curDate = curDate + dt.timedelta(days = 1)"
   ]
  },
  {
   "cell_type": "code",
   "execution_count": 8,
   "metadata": {
    "collapsed": false,
    "deletable": true,
    "editable": true
   },
   "outputs": [],
   "source": [
    "trainFeatures_recentData = pd.DataFrame(statDataTrain, columns = columns)\n",
    "trainFeatures_recentData.to_csv('../preprocess/trainValidFeatures_recentDataView.csv', header = False, index = False, date_format = 'float32')"
   ]
  },
  {
   "cell_type": "code",
   "execution_count": 9,
   "metadata": {
    "collapsed": true,
    "deletable": true,
    "editable": true
   },
   "outputs": [],
   "source": [
    "statDataTest = {}\n",
    "for column in columns:\n",
    "    statDataTest[column] = []\n",
    "\n",
    "for shopID in shopInfo['shopID']:\n",
    "    curDate = startDateTest\n",
    "    endDate = endDateTest + dt.timedelta(days = 1)\n",
    "    while curDate != endDate:\n",
    "        for shopCol in columns:\n",
    "            if shopCol == 'year':\n",
    "                statDataTest[shopCol].append(curDate.year)\n",
    "            elif shopCol == 'month':\n",
    "                statDataTest[shopCol].append(curDate.month)\n",
    "            elif shopCol == 'day':\n",
    "                statDataTest[shopCol].append(curDate.day)\n",
    "            elif shopCol == 'shopID':\n",
    "                statDataTest[shopCol].append(shopID)\n",
    "            else:\n",
    "                period = int(shopCol.split('days')[0].split('last')[1])\n",
    "                stat = shopCol.split('_')[-1]\n",
    "                indexPeriod = periods.index(period)\n",
    "                indexStat = stats.index(stat)\n",
    "                indexDate = (curDate - startDateTest).days\n",
    "#                 print(shopID, indexDate, indexPeriod, indexStat)\n",
    "                statDataTest[shopCol].append(statListTest[shopID - 1][indexDate][indexPeriod][indexStat])            \n",
    "        curDate = curDate + dt.timedelta(days = 1)"
   ]
  },
  {
   "cell_type": "code",
   "execution_count": 10,
   "metadata": {
    "collapsed": true,
    "deletable": true,
    "editable": true
   },
   "outputs": [],
   "source": [
    "testFeatures_recentData = pd.DataFrame(statDataTest, columns = columns)\n",
    "testFeatures_recentData.to_csv('../preprocess/validFeatures_recentDataView.csv', header = False, index = False, date_format = 'float32')"
   ]
  },
  {
   "cell_type": "markdown",
   "metadata": {
    "collapsed": true,
    "deletable": true,
    "editable": true
   },
   "source": [
    "# generate recent view data for training and testing"
   ]
  },
  {
   "cell_type": "code",
   "execution_count": 11,
   "metadata": {
    "collapsed": true,
    "deletable": true,
    "editable": true
   },
   "outputs": [],
   "source": [
    "startDateTrain = dt.date(2016, 10, 4)\n",
    "endDateTrain = dt.date(2016, 10, 31)\n",
    "startDateTest = dt.date(2016, 11, 1)\n",
    "endDateTest = dt.date(2016, 11, 14)\n",
    "startDate = dt.date(2015, 7, 1)\n",
    "endDate = dt.date(2016, 10, 31)\n",
    "\n",
    "periods = [7, 14, 28]\n",
    "stats = ['meanView', 'stdView', 'skewView', 'kurtosisView']\n",
    "columns = ['shopID', 'year', 'month', 'day']\n",
    "for period in periods:\n",
    "    for stat in stats:\n",
    "        column = 'last' + str(period) + 'days_' + stat\n",
    "        columns.append(column)"
   ]
  },
  {
   "cell_type": "code",
   "execution_count": 12,
   "metadata": {
    "collapsed": false,
    "deletable": true,
    "editable": true
   },
   "outputs": [],
   "source": [
    "statListTrain = []\n",
    "for index, pay in enumerate(viewTH):\n",
    "    statListTrain.append([])\n",
    "    days = (endDateTrain - startDateTrain).days + 1\n",
    "    for i in range(days):\n",
    "        statListTrain[index].append([])\n",
    "        for j, period in enumerate(periods):\n",
    "            cur = (startDateTrain - startDate).days + i\n",
    "            end = cur - days\n",
    "            start = end - period + 1\n",
    "            dataCal = pay[start:(end+1)]\n",
    "            dataCal = dataCal[dataCal != 0]   #remove zero values\n",
    "            \n",
    "            if dataCal.size > period/2:\n",
    "                mean = np.mean(dataCal)\n",
    "                std = np.std(dataCal)\n",
    "                skew = st.skew(dataCal)\n",
    "                kurtosis = st.kurtosis(dataCal)\n",
    "            else:\n",
    "                mean = np.nan\n",
    "                std = np.nan\n",
    "                skew = np.nan\n",
    "                kurtosis = np.nan\n",
    "                \n",
    "            statListTrain[index][i].append([mean, std, skew, kurtosis])"
   ]
  },
  {
   "cell_type": "code",
   "execution_count": 13,
   "metadata": {
    "collapsed": false,
    "deletable": true,
    "editable": true
   },
   "outputs": [],
   "source": [
    "statListTest = []\n",
    "for index, pay in enumerate(viewTH):\n",
    "    statListTest.append([])\n",
    "    days = (endDateTest - startDateTest).days + 1\n",
    "    for i in range(days):\n",
    "        statListTest[index].append([])\n",
    "        for j, period in enumerate(periods):\n",
    "            cur = (startDateTest - startDate).days + i\n",
    "            end = cur - days\n",
    "            start = end - period + 1\n",
    "            dataCal = pay[start:(end+1)]\n",
    "            dataCal = dataCal[dataCal != 0]   #remove zero values\n",
    "        \n",
    "            if dataCal.size > period/2:\n",
    "                mean = np.mean(dataCal)\n",
    "                std = np.std(dataCal)\n",
    "                skew = st.skew(dataCal)\n",
    "                kurtosis = st.kurtosis(dataCal)\n",
    "            else:\n",
    "                mean = np.nan\n",
    "                std = np.nan\n",
    "                skew = np.nan\n",
    "                kurtosis = np.nan\n",
    "            \n",
    "            statListTest[index][i].append([mean, std, skew, kurtosis])"
   ]
  },
  {
   "cell_type": "code",
   "execution_count": 14,
   "metadata": {
    "collapsed": true,
    "deletable": true,
    "editable": true
   },
   "outputs": [],
   "source": [
    "statDataTrain = {}\n",
    "for column in columns:\n",
    "    statDataTrain[column] = []\n",
    "\n",
    "for shopID in shopInfo['shopID']:\n",
    "    curDate = startDateTrain\n",
    "    endDate = endDateTrain + dt.timedelta(days = 1)\n",
    "    while curDate != endDate:\n",
    "        for shopCol in columns:\n",
    "            if shopCol == 'year':\n",
    "                statDataTrain[shopCol].append(curDate.year)\n",
    "            elif shopCol == 'month':\n",
    "                statDataTrain[shopCol].append(curDate.month)\n",
    "            elif shopCol == 'day':\n",
    "                statDataTrain[shopCol].append(curDate.day)\n",
    "            elif shopCol == 'shopID':\n",
    "                statDataTrain[shopCol].append(shopID)\n",
    "            else:\n",
    "                period = int(shopCol.split('days')[0].split('last')[1])\n",
    "                stat = shopCol.split('_')[-1]\n",
    "                indexPeriod = periods.index(period)\n",
    "                indexStat = stats.index(stat)\n",
    "                indexDate = (curDate - startDateTrain).days\n",
    "#                 print(shopID, indexDate, indexPeriod, indexStat)\n",
    "                statDataTrain[shopCol].append(statListTrain[shopID - 1][indexDate][indexPeriod][indexStat])            \n",
    "        curDate = curDate + dt.timedelta(days = 1)"
   ]
  },
  {
   "cell_type": "code",
   "execution_count": 15,
   "metadata": {
    "collapsed": true,
    "deletable": true,
    "editable": true
   },
   "outputs": [],
   "source": [
    "trainFeatures_recentData = pd.DataFrame(statDataTrain, columns = columns)\n",
    "trainFeatures_recentData.to_csv('../preprocess/trainTestFeatures_recentDataView.csv', header = False, index = False, date_format = 'float32')"
   ]
  },
  {
   "cell_type": "code",
   "execution_count": 16,
   "metadata": {
    "collapsed": true,
    "deletable": true,
    "editable": true
   },
   "outputs": [],
   "source": [
    "statDataTest = {}\n",
    "for column in columns:\n",
    "    statDataTest[column] = []\n",
    "\n",
    "for shopID in shopInfo['shopID']:\n",
    "    curDate = startDateTest\n",
    "    endDate = endDateTest + dt.timedelta(days = 1)\n",
    "    while curDate != endDate:\n",
    "        for shopCol in columns:\n",
    "            if shopCol == 'year':\n",
    "                statDataTest[shopCol].append(curDate.year)\n",
    "            elif shopCol == 'month':\n",
    "                statDataTest[shopCol].append(curDate.month)\n",
    "            elif shopCol == 'day':\n",
    "                statDataTest[shopCol].append(curDate.day)\n",
    "            elif shopCol == 'shopID':\n",
    "                statDataTest[shopCol].append(shopID)\n",
    "            else:\n",
    "                period = int(shopCol.split('days')[0].split('last')[1])\n",
    "                stat = shopCol.split('_')[-1]\n",
    "                indexPeriod = periods.index(period)\n",
    "                indexStat = stats.index(stat)\n",
    "                indexDate = (curDate - startDateTest).days\n",
    "#                 print(shopID, indexDate, indexPeriod, indexStat)\n",
    "                statDataTest[shopCol].append(statListTest[shopID - 1][indexDate][indexPeriod][indexStat])            \n",
    "        curDate = curDate + dt.timedelta(days = 1)"
   ]
  },
  {
   "cell_type": "code",
   "execution_count": 17,
   "metadata": {
    "collapsed": true,
    "deletable": true,
    "editable": true
   },
   "outputs": [],
   "source": [
    "testFeatures_recentData = pd.DataFrame(statDataTest, columns = columns)\n",
    "testFeatures_recentData.to_csv('../preprocess/testFeatures_recentDataView.csv', header = False, index = False, date_format = 'float32')"
   ]
  }
 ],
 "metadata": {
  "kernelspec": {
   "display_name": "Python 3",
   "language": "python",
   "name": "python3"
  },
  "language_info": {
   "codemirror_mode": {
    "name": "ipython",
    "version": 3
   },
   "file_extension": ".py",
   "mimetype": "text/x-python",
   "name": "python",
   "nbconvert_exporter": "python",
   "pygments_lexer": "ipython3",
   "version": "3.6.0"
  }
 },
 "nbformat": 4,
 "nbformat_minor": 2
}
